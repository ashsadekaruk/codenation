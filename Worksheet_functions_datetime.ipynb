{
  "nbformat": 4,
  "nbformat_minor": 0,
  "metadata": {
    "colab": {
      "name": "Worksheet-functions-datetime.ipynb",
      "provenance": [],
      "include_colab_link": true
    },
    "kernelspec": {
      "name": "python3",
      "display_name": "Python 3"
    },
    "language_info": {
      "name": "python"
    }
  },
  "cells": [
    {
      "cell_type": "markdown",
      "metadata": {
        "id": "view-in-github",
        "colab_type": "text"
      },
      "source": [
        "<a href=\"https://colab.research.google.com/github/ashsadekaruk/codenation/blob/main/Worksheet_functions_datetime.ipynb\" target=\"_parent\"><img src=\"https://colab.research.google.com/assets/colab-badge.svg\" alt=\"Open In Colab\"/></a>"
      ]
    },
    {
      "cell_type": "markdown",
      "metadata": {
        "id": "7iQyKP-SQiw1"
      },
      "source": [
        "# User-defined functions using datetime library\n",
        "\n",
        "---\n"
      ]
    },
    {
      "cell_type": "markdown",
      "metadata": {
        "id": "Vi93h5I4QnKs"
      },
      "source": [
        "When working with dates and times, fairly common in data sets, we need to be able to extract certain bits of information.  \n",
        "\n",
        "In Python, as with other languages, dates and times are stored in a data structure that combines the two together and stores the information as a number of seconds since a start point (often 1st January 1900).  This is obviously a large number but every bit of information about a date can be extracted from it and used to give a wide range of information.  \n",
        "\n",
        "Have a go at the exercises below to use a selection of datetime functions and return a new bit of data from each, to be printed by the caller.\n",
        "\n",
        "Before you can use datetime functions you will need to import them. Import the datetime functions like this:\n",
        "\n",
        "`from datetime import datetime`  \n",
        "\n",
        "\n",
        "For more information about datetime functions visit [w3Schools-Python datetime](https://www.w3schools.com/python/python_datetime.asp) and [Python docs](https://docs.python.org/3/library/datetime.html)"
      ]
    },
    {
      "cell_type": "markdown",
      "metadata": {
        "id": "MIDLi7CNR034"
      },
      "source": [
        "---\n",
        "### Exercise 1 - print current date and time\n",
        "\n",
        "Write a function that will return the date and time now.  The caller will print it.  \n",
        "\n",
        "*Hint:  the format has been added for you, the other exercises will follow a similar format.   Always remember to import datetime from datetime as shown below*"
      ]
    },
    {
      "cell_type": "code",
      "metadata": {
        "id": "gS6GJdXbQfHp",
        "outputId": "06d2af6a-da64-4749-9336-da3d701caa7f",
        "colab": {
          "base_uri": "https://localhost:8080/"
        }
      },
      "source": [
        "from datetime import datetime, timezone\n",
        "\n",
        "def get_datetime_now():\n",
        "  # add code below to get the date and time right now \n",
        "  current_datetime= datetime.now()\n",
        "  return current_datetime\n",
        "# This code will run and test if current date is being returned\n",
        "actual = get_datetime_now().strftime('%Y-%m-%d')\n",
        "expected = datetime.now(timezone.utc).strftime('%Y-%m-%d')\n",
        "\n",
        "if actual == expected:\n",
        "  print(\"Test passed\", actual)\n",
        "else:\n",
        "  print(\"Test failed expected\", expected, \"got\", actual)"
      ],
      "execution_count": 1,
      "outputs": [
        {
          "output_type": "stream",
          "name": "stdout",
          "text": [
            "Test passed 2023-01-19\n"
          ]
        }
      ]
    },
    {
      "cell_type": "markdown",
      "metadata": {
        "id": "Yy24sL0bUtpF"
      },
      "source": [
        "---\n",
        "Exercise 2 - print the current year\n",
        "\n",
        "Write a function that will return the current year.  The caller will print the year."
      ]
    },
    {
      "cell_type": "code",
      "metadata": {
        "id": "YqlQqPIqUtyr",
        "outputId": "9ef5fc51-357f-4527-ecda-df68ee0ca8f2",
        "colab": {
          "base_uri": "https://localhost:8080/"
        }
      },
      "source": [
        "def get_current_year():\n",
        "  # add code below to get the current year\n",
        "  current_year = datetime.now(timezone.utc).strftime('%Y')\n",
        "  return current_year\n",
        "# This code will run the function and test whether the current year is being returned \n",
        "actual = get_current_year()\n",
        "expected = datetime.now(timezone.utc).strftime('%Y')\n",
        "\n",
        "if actual == expected:\n",
        "  print(\"Test passed\", actual)\n",
        "else:\n",
        "  print(\"Test failed expected\", expected, \"got\", actual)"
      ],
      "execution_count": 2,
      "outputs": [
        {
          "output_type": "stream",
          "name": "stdout",
          "text": [
            "Test passed 2023\n"
          ]
        }
      ]
    },
    {
      "cell_type": "markdown",
      "metadata": {
        "id": "FzSVCaJKV1O1"
      },
      "source": [
        "---\n",
        "### Exercise 3 - print the current day of the week\n",
        "\n",
        "Write a function that will return the current day of the week.  The caller will print it."
      ]
    },
    {
      "cell_type": "code",
      "metadata": {
        "id": "OP4ZIXBWV1Yj",
        "outputId": "7ab518ba-0152-4def-c202-369d61f17c54",
        "colab": {
          "base_uri": "https://localhost:8080/"
        }
      },
      "source": [
        "def get_current_day():\n",
        "  # add code to return the current day of the week \n",
        "  current_day = datetime.now(timezone.utc).strftime('%A')\n",
        "  return current_day\n",
        "# run and test to see if current day is being returned\n",
        "\n",
        "actual = get_current_day()\n",
        "expected = datetime.now(timezone.utc).strftime('%A')\n",
        "\n",
        "if actual == expected:\n",
        "  print(\"Test passed\", actual)\n",
        "else:\n",
        "  print(\"Test failed expected\", expected, \"got\", actual)\n",
        "     "
      ],
      "execution_count": 3,
      "outputs": [
        {
          "output_type": "stream",
          "name": "stdout",
          "text": [
            "Test passed Thursday\n"
          ]
        }
      ]
    },
    {
      "cell_type": "markdown",
      "metadata": {
        "id": "a8euCtdmWIDE"
      },
      "source": [
        "---\n",
        "### Exercise 4 - create a new date\n",
        "\n",
        "Write a function that will take 3 parameters, day, month, year (3 numbers that make a valid date) and will create, and return a new date.  The caller will print the date."
      ]
    },
    {
      "cell_type": "code",
      "metadata": {
        "id": "FbOFnTwnWILN",
        "outputId": "31ddce3c-7e45-4785-cd27-53fbb61922a4",
        "colab": {
          "base_uri": "https://localhost:8080/"
        }
      },
      "source": [
        "def create_new_date(year, month, day):\n",
        "  # add code below to return a datetime date using the given parameters\n",
        "  new_date = datetime(year,month,day) \n",
        "  return new_date\n",
        "# run and test if returned date is in datetime format\n",
        "\n",
        "if isinstance(create_new_date(2021, 12, 12), datetime) == True:\n",
        "  print(\"Test passed\")\n",
        "else:\n",
        "  print(\"Test failed, expected datetime object\")"
      ],
      "execution_count": 4,
      "outputs": [
        {
          "output_type": "stream",
          "name": "stdout",
          "text": [
            "Test passed\n"
          ]
        }
      ]
    },
    {
      "cell_type": "markdown",
      "metadata": {
        "id": "f5SKVuE0WfcE"
      },
      "source": [
        "---\n",
        "### Exercise 5 - create a valid date\n",
        "\n",
        "Write a function that will take 3 parameters, day, month, year (3 numbers) and will:  \n",
        "*   check that the month is between 1 and 12  \n",
        "*   check that the day is valid for the month (e.g. if the month is 2, then the day must be between 1 and 28 (don't worry about leap years for the moment)  \n",
        "*   if the date is not valid, print an error message and return None (which the caller will print)  \n",
        "*   if the date is valid, store it in a new variable, return the variable and the caller will print it."
      ]
    },
    {
      "cell_type": "code",
      "metadata": {
        "id": "gclt-f9-XfdG",
        "outputId": "cf12efb7-4d71-4d49-8e07-2dbb194bcfe7",
        "colab": {
          "base_uri": "https://localhost:8080/"
        }
      },
      "source": [
        "from datetime import datetime\n",
        "\n",
        "def create_valid_date(year, month, day):\n",
        "  # add code below to do as explained above\n",
        "  if(month >0 and month <13):\n",
        "    if(month == 2):\n",
        "      if (day > 0 and day <29):\n",
        "        valid_date = datetime(year,month,day)\n",
        "        return valid_date\n",
        "      else:\n",
        "        return \"Date not valid\"\n",
        "    else:\n",
        "      if (day > 0 and day <32):\n",
        "        valid_date = datetime(year,month,day)\n",
        "        return valid_date\n",
        "  else:\n",
        "      return None\n",
        "# run and test if your code is correctly validating dates\n",
        "#actual = create_valid_date()\n",
        "if create_valid_date(2021, 14, 12) == None:\n",
        "  print('Test 1 passed, expected None got None')\n",
        "else:\n",
        "  print(\"Test 1 failed expected None got\", create_valid_date(2021, 14, 12))\n",
        "\n",
        "if print(create_valid_date(2021, 2, 31)) == None:\n",
        "  print('Test 1 passed, expected None got None')\n",
        "else:\n",
        "  print(\"Test 1 failed expected None got\", create_valid_date(2021, 2, 31))\n",
        "\n",
        "if isinstance(create_valid_date(2021, 7, 31), datetime) == True:\n",
        "  print('Test 1 passed, expected datetime object got datetime object')\n",
        "else:\n",
        "  print(\"Test 1 failed expected datetime object got\", create_valid_date(2021, 7 , 31))"
      ],
      "execution_count": 5,
      "outputs": [
        {
          "output_type": "stream",
          "name": "stdout",
          "text": [
            "Test 1 passed, expected None got None\n",
            "Date not valid\n",
            "Test 1 passed, expected None got None\n",
            "Test 1 passed, expected datetime object got datetime object\n"
          ]
        }
      ]
    },
    {
      "cell_type": "markdown",
      "metadata": {
        "id": "js7fy2HWXfm2"
      },
      "source": [
        "---\n",
        "### Exercise 6 - is it a leap year?\n",
        "\n",
        "Write a function that will take a date as a parameter (you will need to create the date variable before calling the function) and will determine if it is a leap year, returning True or False.\n",
        "\n",
        "*Hint:  a leap year is a year that is divisible by 4 but the centuries (1900, 2000, etc are only leap years if they are divisible by 400)*"
      ]
    },
    {
      "cell_type": "code",
      "metadata": {
        "id": "KY1jtf3lX_ps",
        "outputId": "cc6d78aa-97ca-4b66-87b9-5267f0922724",
        "colab": {
          "base_uri": "https://localhost:8080/"
        }
      },
      "source": [
        "def is_leap_year(date_to_check):\n",
        "  # add your code below to check if date is a leap year\n",
        "  check_year = date_to_check[0]\n",
        "  # divide by 100 means century year (year ending with 00)\n",
        "  # if century year is divided by 400 means leap year\n",
        "  if ((check_year % 400) == 0 and (check_year % 100)==0):\n",
        "    return True\n",
        "  \n",
        "  # not divided by 100 means not century year\n",
        "  # year divided by 4 means leap year\n",
        "  elif ((check_year % 100) != 0 and (check_year % 4)==0):\n",
        "    return True\n",
        "\n",
        "  # if not divided by 400 (for century year) or by 4 (not century year)\n",
        "  # means not a leap year\n",
        "  else:\n",
        "    return False\n",
        "  \n",
        "# run code below to test if your function is correctly identifying leap years \n",
        "if is_leap_year((1996, 12, 15)) == True:\n",
        "  print(\"Test 1 passed expected True got\", is_leap_year((1996, 12, 15)))\n",
        "else:\n",
        "  print(\"Test failed expected True got\", is_leap_year((1996, 12, 15)))\n",
        "\n",
        "if is_leap_year((2020, 1, 2)) == True:\n",
        "  print(\"Test 2 passed expected True got\", is_leap_year((2020, 1, 2)))\n",
        "else:\n",
        "  print(\"Test failed expected True got\", is_leap_year((2020, 1, 2)))\n",
        "\n",
        "if is_leap_year((2021, 11, 17)) == False:\n",
        "  print(\"Test 2 passed expected False got\", is_leap_year((2021, 11, 17)))\n",
        "else:\n",
        "  print(\"Test failed expected False got\", is_leap_year((2021, 11, 17)))\n",
        "\n",
        "if is_leap_year((1900, 3, 1)) == False:\n",
        "  print(\"Test 2 passed expected False got\", is_leap_year((1900, 3, 1)))\n",
        "else:\n",
        "  print(\"Test failed expected False got\", is_leap_year((1900, 3, 1)))"
      ],
      "execution_count": 6,
      "outputs": [
        {
          "output_type": "stream",
          "name": "stdout",
          "text": [
            "Test 1 passed expected True got True\n",
            "Test 2 passed expected True got True\n",
            "Test 2 passed expected False got False\n",
            "Test 2 passed expected False got False\n"
          ]
        }
      ]
    },
    {
      "cell_type": "markdown",
      "metadata": {
        "id": "9BuRDi08YAO0"
      },
      "source": [
        "---\n",
        "### Exercise 7 - display parts of date/time\n",
        "\n",
        "Write a function that will take a date and print from it the following:  \n",
        "*  given date and time  \n",
        "*  year (in full) \n",
        "*  month (as a number) \n",
        "*  month name \n",
        "*  week number of the year  \n",
        "*  weekday of the week (as a number)  \n",
        "*  day of year  \n",
        "*  day of the month  \n",
        "*  day of week (as a name)  \n",
        "\n",
        "*Hint:  see w3Schools for [strftime reference](https://www.w3schools.com/python/python_datetime.asp)*\n",
        "\n"
      ]
    },
    {
      "cell_type": "code",
      "metadata": {
        "id": "zl-37Ez9ahym",
        "outputId": "db99796e-5baf-4003-c596-18c15ec5c8a9",
        "colab": {
          "base_uri": "https://localhost:8080/"
        }
      },
      "source": [
        "def get_datetime_parts(year, month, day):\n",
        "  # create the returned variables below, adding code for each bullet point \n",
        "  given_date = datetime(year,month,day)\n",
        "  year= given_date.strftime(\"%Y\")\n",
        "  num_month = given_date.strftime(\"%m\")\n",
        "  str_month = given_date.strftime(\"%B\")\n",
        "  week_num = given_date.strftime(\"%U\")\n",
        "  weekday_num = given_date.strftime(\"%w\")\n",
        "  day_of_year = given_date.strftime(\"%j\")\n",
        "  day_of_month = given_date.strftime(\"%d\")\n",
        "  weekday = given_date.strftime(\"%A\")\n",
        "  return given_date , year, num_month, str_month, week_num, weekday_num, day_of_year, day_of_month, weekday\n",
        "\n",
        "# Run test below to check answers for date 1997/06/02\n",
        "actual = get_datetime_parts(1997, 6, 2)\n",
        "expected = (datetime(1997, 6, 2, 0, 0), '1997','06','June','22', '1','153','02','Monday')\n",
        "\n",
        "if actual == expected:\n",
        "  print(\"Test passed\", actual)\n",
        "else:\n",
        "  print(\"Test failed expected\", expected, \"got\", actual)"
      ],
      "execution_count": 7,
      "outputs": [
        {
          "output_type": "stream",
          "name": "stdout",
          "text": [
            "Test passed (datetime.datetime(1997, 6, 2, 0, 0), '1997', '06', 'June', '22', '1', '153', '02', 'Monday')\n"
          ]
        }
      ]
    },
    {
      "cell_type": "markdown",
      "metadata": {
        "id": "_rpTIoSDaiBj"
      },
      "source": [
        "---\n",
        "### Exercise 8 - next 6 days\n",
        "\n",
        "Write a function that will take a date and generate the dates of the following 6 days.  It should print each of the 6 days in the form:  \n",
        "\n",
        "DAY OF THE WEEK, MONTH NAME, FULL YEAR\n",
        "\n",
        "Hint:  to generate the days, use the function datetime.timedelta(), there is a good example of its use [here](https://www.geeksforgeeks.org/python-datetime-timedelta-function/)  "
      ]
    },
    {
      "cell_type": "code",
      "metadata": {
        "id": "1d-oXqLLb0vX",
        "outputId": "cf10bd9e-81a9-4743-d210-95ae1b0bea36",
        "colab": {
          "base_uri": "https://localhost:8080/"
        }
      },
      "source": [
        "from datetime import timedelta\n",
        "\n",
        "def get_next_six(year, month, day):\n",
        "  # add code to return a list of the dates of the following 6 days  \n",
        "  given_date = datetime(year,month,day)\n",
        "  ret_list = []\n",
        "  for i in range (1,7):\n",
        "    x = given_date + timedelta(days = i)\n",
        "    return_date = x.strftime(\"%d, %B, %Y\")\n",
        "    ret_list.append(return_date)\n",
        "  return ret_list\n",
        "  \n",
        "# run and test if 6 correct dates are generated \n",
        "actual = get_next_six(2021, 7, 31)\n",
        "expected = ['01, August, 2021', '02, August, 2021', '03, August, 2021', '04, August, 2021', '05, August, 2021', '06, August, 2021']\n",
        "\n",
        "if actual == expected:\n",
        "  print(\"Test passed\", actual)\n",
        "else:\n",
        "  print(\"Test failed expected\", expected, \"got\", actual)"
      ],
      "execution_count": 8,
      "outputs": [
        {
          "output_type": "stream",
          "name": "stdout",
          "text": [
            "Test passed ['01, August, 2021', '02, August, 2021', '03, August, 2021', '04, August, 2021', '05, August, 2021', '06, August, 2021']\n"
          ]
        }
      ]
    },
    {
      "cell_type": "markdown",
      "metadata": {
        "id": "22Rhwx2Sb1Ey"
      },
      "source": [
        "---\n",
        "### Optional extra practice\n",
        "\n",
        "There are some similar and some more challenging exercises [here](https://www.w3resource.com/python-exercises/date-time-exercise/) if you would like to practice more. The site has its own editor."
      ]
    }
  ]
}