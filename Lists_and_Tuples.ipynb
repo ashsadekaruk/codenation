{
  "nbformat": 4,
  "nbformat_minor": 0,
  "metadata": {
    "colab": {
      "name": "Lists and Tuples.ipynb",
      "provenance": [],
      "include_colab_link": true
    },
    "kernelspec": {
      "name": "python3",
      "display_name": "Python 3"
    },
    "language_info": {
      "name": "python"
    }
  },
  "cells": [
    {
      "cell_type": "markdown",
      "metadata": {
        "id": "view-in-github",
        "colab_type": "text"
      },
      "source": [
        "<a href=\"https://colab.research.google.com/github/ashsadekaruk/codenation/blob/main/Lists_and_Tuples.ipynb\" target=\"_parent\"><img src=\"https://colab.research.google.com/assets/colab-badge.svg\" alt=\"Open In Colab\"/></a>"
      ]
    },
    {
      "cell_type": "markdown",
      "metadata": {
        "id": "Z-M-RCWATK71"
      },
      "source": [
        "# Lists and tuples\n",
        "\n",
        "Often we need to store a number of single items of data together so that they can be processed together. This might be because all the data refers to one person (e.g. name, age, gender, etc) OR it might be because we have a set of data (e.g. all the items that should be displayed in a drop down list, such as all the years from this year back to 100 years ago so that someone can select their year of birth)\n",
        "\n",
        "Python has a range of data structures available including:\n",
        "*   lists  \n",
        "*   tuples  \n",
        "*   dictionaries  \n",
        "*   sets\n",
        "\n",
        "This worksheet looks at lists and tuples.\n",
        "\n",
        "## List\n",
        "A list is a set of related, individual data objects, that are indexed and can be processed as a whole, as subsets or as individual items.  Lists are stored, essentially, as contiguous items in memory so that access can be as quick as possible.  However, they are mutable (they can be changed after they are created and stored) and so those mechanisms need to include extra functionality to deal with changing list sizes.\n",
        "\n",
        "## Tuple\n",
        "Essentially the same as a list but it is immutable.  Once it has been created it can't be changed.  It is stored in memory as contiguous items, with the size required being fixed right from the start.  This makes it faster to access.\n",
        "\n",
        "The code below will create two lists and a tuple.\n",
        "*   the first list contains 1000 random numbers between 1 and 100\n",
        "*   the second list is of random length (up to 5000) and each item is one of the 9 characteristics that are protected under the Equality Act in the UK.\n",
        "*   the tuple contains the 9 protected characteristics\n",
        "\n",
        "Before you start the exercises, run the code below.  It will generate the lists and tuple so that you can use them in the exercises.  If you need to recreate the lists again (because you have changed them and need to work on the originals, just run this cell again).\n",
        "\n",
        "***Note:***  *a list variable contains a reference to the start of the list in memory, rather than storing the list itself.  This means that if you assign the list to another variable (to make a copy), it will only copy across the reference.  If you change the copy, you change the original list.*\n",
        "\n",
        "*If you need to make a copy of the list you will need to use a loop to create a new list and copy all items across.*"
      ]
    },
    {
      "cell_type": "code",
      "metadata": {
        "id": "BDRckXeQXFMT"
      },
      "source": [
        "from random import randint, choice\n",
        "\n",
        "def get_num_list():\n",
        "  num_list = [randint(1,100) for n in range(1000)]\n",
        "  return num_list\n",
        "\n",
        "def get_protected_characteristics():\n",
        "  characteristics_tuple = ('age','disability','gender reassignment','marriage and civil partnership','pregnancy and maternity','race','religion or belief','sex','sexual orientation')\n",
        "  return characteristics_tuple\n",
        "\n",
        "def get_protected_characteristic_list(protected_characteristics):\n",
        "  char_list = [choice(protected_characteristics) for ch in range(randint(1,5000))]\n",
        "  return char_list\n",
        "\n",
        "nums = get_num_list()\n",
        "protected_characteristics = get_protected_characteristics()\n",
        "characteristics = get_protected_characteristic_list(protected_characteristics)"
      ],
      "execution_count": 19,
      "outputs": []
    },
    {
      "cell_type": "markdown",
      "metadata": {
        "id": "xXT38-4ZV45n"
      },
      "source": [
        "## The exercises below will use the lists:  \n",
        "*   **nums** (a list of between 1 and 1000 random numbers, each number is between 0 and 1000)\n",
        "*   **characteristics** (a list of 5000 random protected_characteristics)\n",
        "\n",
        "and the tuple:\n",
        "*  **protected_characteristics** (a set of the 9 protected characteristics identified in the Equality Act)\n",
        "\n",
        "## You can run the cell above any number of times to generate new lists."
      ]
    },
    {
      "cell_type": "markdown",
      "metadata": {
        "id": "Ft0dXl7fUuaK"
      },
      "source": [
        "---\n",
        "### Exercise 1 - list head, tail and shape\n",
        "\n",
        "Write a function, **describe_list()** which will:\n",
        "*  print the length of the list `nums`\n",
        "*  print the first 10 items in `nums`  \n",
        "*  print the last 5 items in `nums`"
      ]
    },
    {
      "cell_type": "code",
      "metadata": {
        "id": "jUcZD7mmTJdA",
        "outputId": "fff0f093-570b-4da9-e335-69ad19b3a068",
        "colab": {
          "base_uri": "https://localhost:8080/"
        }
      },
      "source": [
        "from random import randint, choice\n",
        "def get_num_list():\n",
        "  num_list = [randint(1,100) for n in range(1000)]\n",
        "  return num_list\n",
        "def describe_list():\n",
        "  nums = get_num_list()\n",
        "  num_list=len(nums)\n",
        "  print(\"length of the list\"+ str(num_list))\n",
        "  num_list=nums[:10]\n",
        "  print(\"first 10 items\"+str(num_list))\n",
        "  num_list=nums[len(nums)-6:len(nums)-1]\n",
        "  print(\"last 5 items\"+str(num_list))\n",
        "describe_list()\n"
      ],
      "execution_count": 1,
      "outputs": [
        {
          "output_type": "stream",
          "name": "stdout",
          "text": [
            "length of the list1000\n",
            "first 10 items[46, 26, 95, 4, 13, 50, 70, 3, 73, 98]\n",
            "last 5 items[49, 68, 10, 38, 68]\n"
          ]
        }
      ]
    },
    {
      "cell_type": "markdown",
      "metadata": {
        "id": "yNWg08k6bXv0"
      },
      "source": [
        "---\n",
        "### Exercise 2 - show tuple items\n",
        "\n",
        "Write a function which will:\n",
        "*   use a loop to print the list of protected characteristics from the `protected_characteristics` tuple.\n"
      ]
    },
    {
      "cell_type": "code",
      "metadata": {
        "id": "P2HnCG9pb1BS",
        "outputId": "a8641b0e-10b4-4419-bc7e-8f9408c620e0",
        "colab": {
          "base_uri": "https://localhost:8080/"
        }
      },
      "source": [
        "length = len(protected_characteristics)\n",
        "for i in range(1,length+1):\n",
        "  print(protected_characteristics[i-1])"
      ],
      "execution_count": 20,
      "outputs": [
        {
          "output_type": "stream",
          "name": "stdout",
          "text": [
            "age\n",
            "disability\n",
            "gender reassignment\n",
            "marriage and civil partnership\n",
            "pregnancy and maternity\n",
            "race\n",
            "religion or belief\n",
            "sex\n",
            "sexual orientation\n"
          ]
        }
      ]
    },
    {
      "cell_type": "markdown",
      "metadata": {
        "id": "RTSuQZs4b1JU"
      },
      "source": [
        "---\n",
        "### Exercise 3 - list a random subset\n",
        "\n",
        "Write a function which will:\n",
        "*  calculate the position of the middle item in the `characteristics` list   \n",
        "(*Hint: use len() to help with this*)\n",
        "*  calculate the position of the item that is 5 places before the middle item\n",
        "*  calculate the position of the item that is 5 places after the middle item\n",
        "*  print the part of the list that includes the items from 5 places before to 5 places after.  \n",
        "\n",
        "Expected output:  \n",
        "Your list will include 11 items."
      ]
    },
    {
      "cell_type": "code",
      "metadata": {
        "id": "OwhFnH2kdC11",
        "outputId": "e9934b3d-8599-466a-8dbe-680d0264db9c",
        "colab": {
          "base_uri": "https://localhost:8080/"
        }
      },
      "source": [
        "char_len = len(characteristics)\n",
        "mid_point = char_len//2\n",
        "for i in range(mid_point-6, mid_point):\n",
        "  print(characteristics[i])\n",
        "for i in range(mid_point+1, mid_point+6):\n",
        "  print(characteristics[i])\n",
        "     "
      ],
      "execution_count": 21,
      "outputs": [
        {
          "output_type": "stream",
          "name": "stdout",
          "text": [
            "race\n",
            "marriage and civil partnership\n",
            "age\n",
            "marriage and civil partnership\n",
            "sexual orientation\n",
            "marriage and civil partnership\n",
            "race\n",
            "disability\n",
            "pregnancy and maternity\n",
            "marriage and civil partnership\n",
            "pregnancy and maternity\n"
          ]
        }
      ]
    },
    {
      "cell_type": "markdown",
      "metadata": {
        "id": "KS0x3oFNePI9"
      },
      "source": [
        "---\n",
        "### Exercise 4 - create a copy\n",
        "\n",
        "Write a function which will: use a for loop to create a copy of the `nums` list:\n",
        "\n",
        "*   create a new, empty, list called **new_nums**  (*Hint: an empty list is [ ]*)\n",
        "*   use a for loop which uses the following syntax:  `for num in nums:`\n",
        "*   each time round the loop append `num` to `new_nums`  ( *`new_nums.append(num)`*)\n",
        "*   print the first 10 items of `new_nums`\n",
        "*   print the first 10 items of `nums`\n",
        "*   print the length of both lists"
      ]
    },
    {
      "cell_type": "code",
      "metadata": {
        "id": "mpK1Ip3we-uC",
        "outputId": "2dbf2d7c-1c02-4f37-95b4-19c8a558d3bd",
        "colab": {
          "base_uri": "https://localhost:8080/"
        }
      },
      "source": [
        "new_nums = []\n",
        "for num in nums:\n",
        "  new_nums.append(num)\n",
        "print(new_nums[:10])\n",
        "print(len(new_nums))\n",
        "print(len(nums))"
      ],
      "execution_count": 22,
      "outputs": [
        {
          "output_type": "stream",
          "name": "stdout",
          "text": [
            "[81, 35, 27, 27, 1, 14, 63, 94, 24, 12]\n",
            "1000\n",
            "1000\n"
          ]
        }
      ]
    },
    {
      "cell_type": "markdown",
      "metadata": {
        "id": "deUIFWjRe-3G"
      },
      "source": [
        "\n",
        "\n",
        "```\n",
        "# This is formatted as code\n",
        "```\n",
        "\n",
        "---\n",
        "### Exercise 5 - count the occurrence of age in characteristics\n",
        "\n",
        "Write a function which will use the list method:\n",
        "\n",
        "`num_items = list_name.count(item)`\n",
        "\n",
        "to count the number of occurrences of 'age' in the `characteristics` list.  Print the result."
      ]
    },
    {
      "cell_type": "code",
      "metadata": {
        "id": "b9TrHQ9hfoIU",
        "outputId": "fd5656c0-d15c-44a7-9fe8-cf7da04f9d5d",
        "colab": {
          "base_uri": "https://localhost:8080/"
        }
      },
      "source": [
        "print(characteristics.count('age'))"
      ],
      "execution_count": 23,
      "outputs": [
        {
          "output_type": "stream",
          "name": "stdout",
          "text": [
            "103\n"
          ]
        }
      ]
    },
    {
      "cell_type": "markdown",
      "metadata": {
        "id": "zm2VI5RmfoSy"
      },
      "source": [
        "---\n",
        "### Exercise 6 - sort the nums list\n",
        "\n",
        "Write a function which will:\n",
        "*   call the function `get_num_list()` and store the result in a new list called **sort_nums**\n",
        "*   print the first, and last, 20 items in the `sort_nums` list\n",
        "*   use the `list_name.sort()` method to sort the `sort_nums` list into ascending order\n",
        "*   print the first, and last, 20 items again  \n",
        "*   use the `list_name.sort()` method again to sort the `sort_nums` list into descending order\n",
        "*   print the first, and last, 20 items again"
      ]
    },
    {
      "cell_type": "code",
      "metadata": {
        "id": "Fksgpj9JgWDs",
        "outputId": "285dba2c-da6d-4442-e9ca-2496dc7879a5",
        "colab": {
          "base_uri": "https://localhost:8080/"
        }
      },
      "source": [
        "sort_nums= get_num_list()\n",
        "length = len(sort_nums)\n",
        "print(sort_nums[1], sort_nums[:20], sort_nums[length-1])\n",
        "sort_nums.sort()\n",
        "print(sort_nums[1], sort_nums[:20], sort_nums[length-1])\n",
        "sort_nums.sort(reverse = True)\n",
        "print(sort_nums[1], sort_nums[:20], sort_nums[length-1])"
      ],
      "execution_count": 24,
      "outputs": [
        {
          "output_type": "stream",
          "name": "stdout",
          "text": [
            "47 [7, 47, 46, 64, 19, 66, 96, 59, 14, 45, 97, 32, 60, 74, 100, 59, 31, 82, 31, 43] 74\n",
            "1 [1, 1, 1, 1, 1, 1, 1, 1, 1, 1, 1, 1, 1, 2, 2, 2, 2, 2, 2, 3] 100\n",
            "100 [100, 100, 100, 100, 100, 100, 100, 100, 100, 99, 99, 99, 99, 99, 99, 99, 99, 99, 99, 98] 1\n"
          ]
        }
      ]
    },
    {
      "cell_type": "markdown",
      "metadata": {
        "id": "_OF-Xuj1UrW0"
      },
      "source": [
        "---\n",
        "### Exercise 7 - get statistics (max(), min(), sum() )\n",
        "\n",
        "Write a function which will:\n",
        "*   print the maximum and minimum numbers in the `nums` list  \n",
        "*   print the sum of the `nums` list\n",
        "*   calculate and print the average of the `nums` list (using `len()` to help)"
      ]
    },
    {
      "cell_type": "code",
      "metadata": {
        "id": "9YmYMenZVGod",
        "outputId": "83437f51-abb4-4014-efd1-4cfa35a23f2f",
        "colab": {
          "base_uri": "https://localhost:8080/"
        }
      },
      "source": [
        "nums= get_num_list()\n",
        "length = len(nums)\n",
        "sum = 0\n",
        "for i in nums:\n",
        "  sum = sum +i\n",
        "nums_average = sum/length\n",
        "print(\"The average is \",nums_average)\n",
        "nums.sort()\n",
        "print(\"The minimum is \",nums[1])\n",
        "nums.sort(reverse = True)\n",
        "print(\"The maximum is \", nums[1])"
      ],
      "execution_count": 25,
      "outputs": [
        {
          "output_type": "stream",
          "name": "stdout",
          "text": [
            "The average is  50.574\n",
            "The minimum is  1\n",
            "The maximum is  100\n"
          ]
        }
      ]
    },
    {
      "cell_type": "markdown",
      "metadata": {
        "id": "Mn4tHQ_KVbHa"
      },
      "source": [
        "---\n",
        "### Exercise 8 - percentage difference\n",
        "\n",
        "Write a function which will:\n",
        "*   generate a new list called **ex8_nums** using `get_num_list()`\n",
        "*   calculate and print the percentage difference between the first number in each list (as a percentage of the number in the nums list) (Hint:  find the difference between the two numbers, divide the difference by the number in `nums` and multiply by 100)\n",
        "*   calculate and print the percentage difference between the last numbers in each list in the same way\n",
        "*   calculate and print the percentage difference between the middle numbers in each list in the same way.\n",
        "*   calculate and print the percentage difference between the sums of each list in the same way"
      ]
    },
    {
      "cell_type": "code",
      "metadata": {
        "id": "nJCQjZIeZL0e",
        "outputId": "6e1e8cb4-fd01-4e0d-f87a-cfa5723c83c2",
        "colab": {
          "base_uri": "https://localhost:8080/"
        }
      },
      "source": [
        "ex8_nums= get_num_list()\n",
        "list_length = len(ex8_nums)\n",
        "first_diff = ((ex8_nums[1]-nums[1])/nums[1])*100\n",
        "print(first_diff)\n",
        "last_diff = ((ex8_nums[list_length-1]-nums[list_length-1])/nums[list_length-1])*100\n",
        "print(last_diff)\n",
        "middle = list_length//2\n",
        "middle_diff = ((ex8_nums[middle-1]-nums[middle-1])/nums[middle-1])*100\n",
        "print(middle_diff)"
      ],
      "execution_count": 26,
      "outputs": [
        {
          "output_type": "stream",
          "name": "stdout",
          "text": [
            "-18.0\n",
            "4400.0\n",
            "-74.50980392156863\n"
          ]
        }
      ]
    },
    {
      "cell_type": "markdown",
      "metadata": {
        "id": "HNs3lZmYawFO"
      },
      "source": [
        "---\n",
        "### Exercise 9 - characteristic counts\n",
        "\n",
        "Write a function which will:\n",
        "*  iterate through the `protected_characteristics` tuple and for each **characteristic**:\n",
        "*   *   count the number of occurrences of that `characteristic` in the `characteristics` list\n",
        "*   *   print the `protected_characteristic` and the **count**  \n",
        "\n",
        "Example expected output:\n",
        "\n",
        "age 100  \n",
        "disability 120  \n",
        "gender reassignment 120  \n",
        "marriage and civil partnership 111  \n",
        "pregnancy and maternity 103  \n",
        "race 106  \n",
        "religion or belief 95  \n",
        "sex 110  \n",
        "sexual orientation 113  \n",
        "\n",
        "Extra learning:  you can read [here](https://thispointer.com/python-how-to-pad-strings-with-zero-space-or-some-other-character/) how to justify the printed characteristic so that the output is organised into two columns as shown below:  \n",
        "![tabulated output](https://drive.google.com/uc?id=1CCXfX6K5ZeDefnq7vUsqxCDmqvcfY8Mz)\n",
        "\n",
        "\n",
        "\n"
      ]
    },
    {
      "cell_type": "code",
      "metadata": {
        "id": "GURT11albqUs",
        "outputId": "641498f6-16bf-40c9-8950-adabc9013f64",
        "colab": {
          "base_uri": "https://localhost:8080/"
        }
      },
      "source": [
        "characteristics = get_protected_characteristic_list(protected_characteristics)\n",
        "char_len = len(characteristics)\n",
        "unique_characteristics = list(set(characteristics))\n",
        "for i in range(len(unique_characteristics)):\n",
        "  print(unique_characteristics[i], characteristics.count(unique_characteristics[i]))\n",
        "     "
      ],
      "execution_count": 27,
      "outputs": [
        {
          "output_type": "stream",
          "name": "stdout",
          "text": [
            "religion or belief 471\n",
            "sexual orientation 469\n",
            "marriage and civil partnership 451\n",
            "age 483\n",
            "sex 517\n",
            "race 477\n",
            "gender reassignment 470\n",
            "disability 480\n",
            "pregnancy and maternity 480\n"
          ]
        }
      ]
    },
    {
      "cell_type": "markdown",
      "metadata": {
        "id": "9Po7yQj-ds38"
      },
      "source": [
        "---\n",
        "### Exercise 10 - characteristics statistics\n",
        "\n",
        "Assuming that the `characteristics` list may have been taken from a study of cases that have been taken to court in relation to the Equality Act.  \n",
        "\n",
        "Write a function which will:\n",
        "\n",
        "*   find the most common characteristic resulting in court action, from this population\n",
        "*   print this in a message, e.g. The characteristic with the highest number of court cases is:  *characteristic*\n",
        "*   print the list of `protected_characteristics`, on one line if possible - see [here](https://www.geeksforgeeks.org/g-fact-25-print-single-multiple-variable-python/)\n",
        "*   ask the user to enter a characteristic that they would like to see statistics on and use a while loop to continue until the user has entered a valid characteristic\n",
        "*   print the characteristic, its frequency and the percentage that this frequency is of the whole population."
      ]
    },
    {
      "cell_type": "code",
      "metadata": {
        "id": "uk_I5z7UgbDs",
        "outputId": "56234f11-1d53-43eb-86cb-318462ff2a34",
        "colab": {
          "base_uri": "https://localhost:8080/"
        }
      },
      "source": [
        "characteristics = get_protected_characteristic_list(protected_characteristics)\n",
        "char_len = len(characteristics)\n",
        "unique_characteristics = list(set(characteristics))\n",
        "characteristics_count = []\n",
        "for i in range(len(unique_characteristics)):\n",
        "  count = characteristics.count(unique_characteristics[i])\n",
        "  characteristics_count.append(count) \n",
        "max_count = max(characteristics_count)\n",
        "for i in range(len(unique_characteristics)):\n",
        "  if characteristics_count[i] == max_count:\n",
        "    print(\"The characteristic with the highest number of court cases is\",unique_characteristics[i])\n",
        "#print(characteristics, end= \" \")\n",
        "print(\"Choose one to see the statistics\", unique_characteristics)\n",
        "match = False\n",
        "while match == False:\n",
        "    user_characteristics = input(\"Enter a valid characteristic: \")\n",
        "    if user_characteristics in unique_characteristics:\n",
        "      match = True\n",
        "    #  print(user_characteristics, characteristics.count(unique_characteristics[i]))"
      ],
      "execution_count": 28,
      "outputs": [
        {
          "name": "stdout",
          "output_type": "stream",
          "text": [
            "The characteristic with the highest number of court cases is sex\n",
            "The characteristic with the highest number of court cases is disability\n",
            "Choose one to see the statistics ['religion or belief', 'pregnancy and maternity', 'sexual orientation', 'marriage and civil partnership', 'age', 'sex', 'race', 'disability', 'gender reassignment']\n",
            "Enter a valid characteristic: age\n"
          ]
        }
      ]
    }
  ]
}